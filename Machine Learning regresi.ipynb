{
  "nbformat": 4,
  "nbformat_minor": 0,
  "metadata": {
    "colab": {
      "provenance": [],
      "authorship_tag": "ABX9TyPLgEplokx7Jib49aG6QEak",
      "include_colab_link": true
    },
    "kernelspec": {
      "name": "python3",
      "display_name": "Python 3"
    },
    "language_info": {
      "name": "python"
    }
  },
  "cells": [
    {
      "cell_type": "markdown",
      "metadata": {
        "id": "view-in-github",
        "colab_type": "text"
      },
      "source": [
        "<a href=\"https://colab.research.google.com/github/arsshielnauval/CRUD-Table/blob/main/Machine%20Learning%20regresi.ipynb\" target=\"_parent\"><img src=\"https://colab.research.google.com/assets/colab-badge.svg\" alt=\"Open In Colab\"/></a>"
      ]
    },
    {
      "cell_type": "code",
      "execution_count": 12,
      "metadata": {
        "id": "tX0_TIKkKKRD"
      },
      "outputs": [],
      "source": [
        "import pandas as pd\n",
        "import geopandas\n",
        "import altair as alt\n",
        "from IPython.display import display\n",
        "import matplotlib.pyplot as plt\n",
        "from sklearn.model_selection import train_test_split\n",
        "from sklearn.preprocessing import StandardScaler, LabelEncoder\n",
        "from sklearn.tree import DecisionTreeClassifier\n",
        "from sklearn.neighbors import KNeighborsClassifier\n",
        "from sklearn.linear_model import LogisticRegression, LinearRegression\n",
        "from sklearn.metrics import accuracy_score, classification_report\n",
        "import numpy as np\n",
        "import seaborn as sns"
      ]
    },
    {
      "cell_type": "code",
      "source": [
        "# Load dataset\n",
        "df = pd.read_csv('/content/waterQuality1.csv')\n",
        "df.head()\n",
        "df.info()"
      ],
      "metadata": {
        "colab": {
          "base_uri": "https://localhost:8080/"
        },
        "id": "EqyEB8ohKPgW",
        "outputId": "a8ffd00e-129f-41dd-9775-59503c521ed5"
      },
      "execution_count": 13,
      "outputs": [
        {
          "output_type": "stream",
          "name": "stdout",
          "text": [
            "<class 'pandas.core.frame.DataFrame'>\n",
            "RangeIndex: 7999 entries, 0 to 7998\n",
            "Data columns (total 21 columns):\n",
            " #   Column       Non-Null Count  Dtype  \n",
            "---  ------       --------------  -----  \n",
            " 0   aluminium    7999 non-null   float64\n",
            " 1   ammonia      7999 non-null   object \n",
            " 2   arsenic      7999 non-null   float64\n",
            " 3   barium       7999 non-null   float64\n",
            " 4   cadmium      7999 non-null   float64\n",
            " 5   chloramine   7999 non-null   float64\n",
            " 6   chromium     7999 non-null   float64\n",
            " 7   copper       7999 non-null   float64\n",
            " 8   flouride     7999 non-null   float64\n",
            " 9   bacteria     7999 non-null   float64\n",
            " 10  viruses      7999 non-null   float64\n",
            " 11  lead         7999 non-null   float64\n",
            " 12  nitrates     7999 non-null   float64\n",
            " 13  nitrites     7999 non-null   float64\n",
            " 14  mercury      7999 non-null   float64\n",
            " 15  perchlorate  7999 non-null   float64\n",
            " 16  radium       7999 non-null   float64\n",
            " 17  selenium     7999 non-null   float64\n",
            " 18  silver       7999 non-null   float64\n",
            " 19  uranium      7999 non-null   float64\n",
            " 20  is_safe      7999 non-null   object \n",
            "dtypes: float64(19), object(2)\n",
            "memory usage: 1.3+ MB\n"
          ]
        }
      ]
    },
    {
      "cell_type": "code",
      "source": [
        "# Check for missing values\n",
        "print(df.isnull().sum().to_markdown())\n",
        "list_null_column = df.columns[df.isnull().any()].tolist()\n",
        "list_null_column"
      ],
      "metadata": {
        "colab": {
          "base_uri": "https://localhost:8080/"
        },
        "id": "ZtWBwmyPKRL2",
        "outputId": "38e27c71-f1a4-4f76-83c0-9600d68ed7e8"
      },
      "execution_count": 14,
      "outputs": [
        {
          "output_type": "stream",
          "name": "stdout",
          "text": [
            "|             |   0 |\n",
            "|:------------|----:|\n",
            "| aluminium   |   0 |\n",
            "| ammonia     |   0 |\n",
            "| arsenic     |   0 |\n",
            "| barium      |   0 |\n",
            "| cadmium     |   0 |\n",
            "| chloramine  |   0 |\n",
            "| chromium    |   0 |\n",
            "| copper      |   0 |\n",
            "| flouride    |   0 |\n",
            "| bacteria    |   0 |\n",
            "| viruses     |   0 |\n",
            "| lead        |   0 |\n",
            "| nitrates    |   0 |\n",
            "| nitrites    |   0 |\n",
            "| mercury     |   0 |\n",
            "| perchlorate |   0 |\n",
            "| radium      |   0 |\n",
            "| selenium    |   0 |\n",
            "| silver      |   0 |\n",
            "| uranium     |   0 |\n",
            "| is_safe     |   0 |\n"
          ]
        },
        {
          "output_type": "execute_result",
          "data": {
            "text/plain": [
              "[]"
            ]
          },
          "metadata": {},
          "execution_count": 14
        }
      ]
    },
    {
      "cell_type": "code",
      "source": [
        "# Convert 'ammonia' and 'is_safe' to numeric, replacing invalid values with mode\n",
        "df.loc[df['ammonia'] == '#NUM!', 'ammonia'] = df['ammonia'].mode()[0]\n",
        "df['ammonia'] = df['ammonia'].astype(float)\n",
        "df.loc[df['is_safe'] == '#NUM!', 'is_safe'] = df['is_safe'].mode()[0]\n",
        "df['is_safe'] = df['is_safe'].astype(int)\n",
        "df.info()"
      ],
      "metadata": {
        "colab": {
          "base_uri": "https://localhost:8080/"
        },
        "id": "ICELq9ORKUCl",
        "outputId": "cc3e570d-5a15-4c6d-a2ad-763e6d89bbd8"
      },
      "execution_count": 15,
      "outputs": [
        {
          "output_type": "stream",
          "name": "stdout",
          "text": [
            "<class 'pandas.core.frame.DataFrame'>\n",
            "RangeIndex: 7999 entries, 0 to 7998\n",
            "Data columns (total 21 columns):\n",
            " #   Column       Non-Null Count  Dtype  \n",
            "---  ------       --------------  -----  \n",
            " 0   aluminium    7999 non-null   float64\n",
            " 1   ammonia      7999 non-null   float64\n",
            " 2   arsenic      7999 non-null   float64\n",
            " 3   barium       7999 non-null   float64\n",
            " 4   cadmium      7999 non-null   float64\n",
            " 5   chloramine   7999 non-null   float64\n",
            " 6   chromium     7999 non-null   float64\n",
            " 7   copper       7999 non-null   float64\n",
            " 8   flouride     7999 non-null   float64\n",
            " 9   bacteria     7999 non-null   float64\n",
            " 10  viruses      7999 non-null   float64\n",
            " 11  lead         7999 non-null   float64\n",
            " 12  nitrates     7999 non-null   float64\n",
            " 13  nitrites     7999 non-null   float64\n",
            " 14  mercury      7999 non-null   float64\n",
            " 15  perchlorate  7999 non-null   float64\n",
            " 16  radium       7999 non-null   float64\n",
            " 17  selenium     7999 non-null   float64\n",
            " 18  silver       7999 non-null   float64\n",
            " 19  uranium      7999 non-null   float64\n",
            " 20  is_safe      7999 non-null   int64  \n",
            "dtypes: float64(20), int64(1)\n",
            "memory usage: 1.3 MB\n"
          ]
        }
      ]
    },
    {
      "cell_type": "code",
      "source": [
        "# Encode target variable\n",
        "le = LabelEncoder()\n",
        "df['is_safe'] = le.fit_transform(df['is_safe'])"
      ],
      "metadata": {
        "id": "BglOOP3FLLnu"
      },
      "execution_count": 16,
      "outputs": []
    },
    {
      "cell_type": "code",
      "source": [
        "# Split dataset into features and target variable\n",
        "X = df.drop('is_safe', axis=1)\n",
        "y = df['is_safe']\n",
        "X_train, X_test, y_train, y_test = train_test_split(X, y, test_size=0.20, random_state=42)\n",
        "\n",
        "# Standardize the features\n",
        "scaler = StandardScaler()\n",
        "X_train = scaler.fit_transform(X_train)\n",
        "X_test = scaler.transform(X_test)\n",
        "\n",
        "# Display train-test split proportions\n",
        "train_proportion = X_train.shape[0] / (X_train.shape[0] + X_test.shape[0])\n",
        "test_proportion = X_test.shape[0] / (X_train.shape[0] + X_test.shape[0])\n",
        "print(f'Proporsi data latih (train): {train_proportion:.0%}')\n",
        "print(f'Proporsi data uji (test): {test_proportion:.0%}')"
      ],
      "metadata": {
        "colab": {
          "base_uri": "https://localhost:8080/"
        },
        "id": "G_ikofTiKX7V",
        "outputId": "f0250254-2a93-4dac-f975-d40fd298742c"
      },
      "execution_count": 17,
      "outputs": [
        {
          "output_type": "stream",
          "name": "stdout",
          "text": [
            "Proporsi data latih (train): 80%\n",
            "Proporsi data uji (test): 20%\n"
          ]
        }
      ]
    },
    {
      "cell_type": "code",
      "source": [
        "# Model initialization\n",
        "lr_model = LogisticRegression()\n",
        "dt_model = DecisionTreeClassifier()\n",
        "knn_model = KNeighborsClassifier(n_neighbors=5)\n",
        "linreg_model = LinearRegression()\n",
        "\n",
        "# Train models\n",
        "lr_model.fit(X_train, y_train)\n",
        "dt_model.fit(X_train, y_train)\n",
        "knn_model.fit(X_train, y_train)\n",
        "linreg_model.fit(X_train, y_train)\n",
        "\n",
        "# Predictions\n",
        "y_pred_lr = lr_model.predict(X_test)\n",
        "y_pred_dt = dt_model.predict(X_test)\n",
        "y_pred_knn = knn_model.predict(X_test)\n",
        "\n",
        "# For Linear Regression, round predictions to nearest integer to treat as classification\n",
        "y_pred_linreg = np.round(linreg_model.predict(X_test)).astype(int)\n",
        "\n",
        "# Accuracy scores\n",
        "accuracy_lr = accuracy_score(y_test, y_pred_lr)\n",
        "accuracy_dt = accuracy_score(y_test, y_pred_dt)\n",
        "accuracy_knn = accuracy_score(y_test, y_pred_knn)\n",
        "accuracy_linreg = accuracy_score(y_test, y_pred_linreg)\n",
        "\n",
        "# Print accuracy scores\n",
        "print(\"Accuracy of Logistic Regression model: {:.2f}%\".format(accuracy_lr * 100))\n",
        "print(\"Accuracy of Decision Tree model: {:.2f}%\".format(accuracy_dt * 100))\n",
        "print(\"Accuracy of K-Nearest Neighbors model: {:.2f}%\".format(accuracy_knn * 100))\n",
        "print(\"Accuracy of Linear Regression model: {:.2f}%\".format(accuracy_linreg * 100))"
      ],
      "metadata": {
        "colab": {
          "base_uri": "https://localhost:8080/"
        },
        "id": "q4_jzWrAKvD-",
        "outputId": "1b9f1d2f-4760-4605-fdfc-bfef87f76954"
      },
      "execution_count": 18,
      "outputs": [
        {
          "output_type": "stream",
          "name": "stdout",
          "text": [
            "Accuracy of Logistic Regression model: 90.19%\n",
            "Accuracy of Decision Tree model: 95.56%\n",
            "Accuracy of K-Nearest Neighbors model: 90.19%\n",
            "Accuracy of Linear Regression model: 88.88%\n"
          ]
        }
      ]
    },
    {
      "cell_type": "code",
      "source": [
        "# Classification reports\n",
        "print(\"Classification Report for Logistic Regression:\\n\", classification_report(y_test, y_pred_lr))\n",
        "print(\"Classification Report for Decision Tree:\\n\", classification_report(y_test, y_pred_dt))\n",
        "print(\"Classification Report for K-Nearest Neighbors:\\n\", classification_report(y_test, y_pred_knn))\n",
        "print(\"Classification Report for Linear Regression:\\n\", classification_report(y_test, y_pred_linreg))"
      ],
      "metadata": {
        "colab": {
          "base_uri": "https://localhost:8080/"
        },
        "id": "-A929KHpKy0n",
        "outputId": "b240b589-82d7-4251-8864-491d4322075d"
      },
      "execution_count": 19,
      "outputs": [
        {
          "output_type": "stream",
          "name": "stdout",
          "text": [
            "Classification Report for Logistic Regression:\n",
            "               precision    recall  f1-score   support\n",
            "\n",
            "           0       0.91      0.98      0.95      1400\n",
            "           1       0.75      0.33      0.45       200\n",
            "\n",
            "    accuracy                           0.90      1600\n",
            "   macro avg       0.83      0.65      0.70      1600\n",
            "weighted avg       0.89      0.90      0.88      1600\n",
            "\n",
            "Classification Report for Decision Tree:\n",
            "               precision    recall  f1-score   support\n",
            "\n",
            "           0       0.97      0.97      0.97      1400\n",
            "           1       0.82      0.82      0.82       200\n",
            "\n",
            "    accuracy                           0.96      1600\n",
            "   macro avg       0.90      0.90      0.90      1600\n",
            "weighted avg       0.96      0.96      0.96      1600\n",
            "\n",
            "Classification Report for K-Nearest Neighbors:\n",
            "               precision    recall  f1-score   support\n",
            "\n",
            "           0       0.92      0.98      0.95      1400\n",
            "           1       0.71      0.36      0.48       200\n",
            "\n",
            "    accuracy                           0.90      1600\n",
            "   macro avg       0.81      0.67      0.71      1600\n",
            "weighted avg       0.89      0.90      0.89      1600\n",
            "\n",
            "Classification Report for Linear Regression:\n",
            "               precision    recall  f1-score   support\n",
            "\n",
            "           0       0.89      0.99      0.94      1400\n",
            "           1       0.76      0.16      0.26       200\n",
            "\n",
            "    accuracy                           0.89      1600\n",
            "   macro avg       0.83      0.58      0.60      1600\n",
            "weighted avg       0.88      0.89      0.86      1600\n",
            "\n"
          ]
        }
      ]
    },
    {
      "cell_type": "code",
      "source": [
        "# Visualization\n",
        "model_names = ['Logistic Regression', 'Decision Tree', 'K-Nearest Neighbors', 'Linear Regression']\n",
        "accuracies = [accuracy_lr, accuracy_dt, accuracy_knn, accuracy_linreg]\n",
        "data = pd.DataFrame({'Model': model_names, 'Akurasi': accuracies})\n",
        "\n",
        "# Altair bar chart\n",
        "chart = alt.Chart(data).mark_bar().encode(\n",
        "    x=alt.X('Model:N', axis=alt.Axis(title='Model')),\n",
        "    y=alt.Y('Akurasi:Q', axis=alt.Axis(title='Akurasi')),\n",
        "    tooltip=['Model', 'Akurasi']\n",
        ").properties(\n",
        "    title='Perbandingan Akurasi Model'\n",
        ").interactive()\n",
        "\n",
        "text = chart.mark_text(\n",
        "    align='center',\n",
        "    baseline='bottom',\n",
        "    dy=-5\n",
        ").encode(\n",
        "    text=alt.Text('Akurasi:Q', format='.2%')\n",
        ")\n",
        "\n",
        "final_chart = chart + text\n",
        "final_chart\n",
        "\n",
        "# Matplotlib bar chart\n",
        "plt.figure(figsize=(8, 6))\n",
        "bars = plt.bar(model_names, accuracies, color=['lightblue', 'lightgreen', 'salmon'])\n",
        "plt.xlabel('Model', fontsize=12)\n",
        "plt.ylabel('Akurasi', fontsize=12)\n",
        "plt.title('Perbandingan Akurasi Model', fontsize=14)\n",
        "\n",
        "for bar in bars:\n",
        "    height = bar.get_height()\n",
        "    label_text = '{:.2f}%'.format(height * 100)\n",
        "    plt.text(bar.get_x() + bar.get_width() / 2, height, label_text, ha='center', va='bottom')\n",
        "\n",
        "plt.show()"
      ],
      "metadata": {
        "colab": {
          "base_uri": "https://localhost:8080/",
          "height": 569
        },
        "id": "JnufFSxUK4RW",
        "outputId": "d066dcf2-f757-45c6-c17f-30ba32806752"
      },
      "execution_count": 21,
      "outputs": [
        {
          "output_type": "display_data",
          "data": {
            "text/plain": [
              "<Figure size 800x600 with 1 Axes>"
            ],
            "image/png": "[encoded data removed]"
          },
          "metadata": {}
        }
      ]
    }
  ]
}